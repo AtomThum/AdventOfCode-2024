{
 "cells": [
  {
   "cell_type": "code",
   "execution_count": 36,
   "metadata": {},
   "outputs": [],
   "source": [
    "import numpy as np\n",
    "\n",
    "with open(\"q6input-atom.txt\", \"r\") as file:\n",
    "    obstacles: np.array = np.array(\n",
    "        [[char for char in line.replace(\"\\n\", \"\")] for line in file.readlines()]\n",
    "    )\n",
    "\n",
    "# Direction: counter clockwise\n",
    "unit_y: np.array = np.array([0, -1, 0, 1]) \n",
    "unit_x: np.array = np.array([1, 0, -1, 0])\n",
    "guard_dir: int = 0\n",
    "init_guard_pos: tuple = np.where(obstacles == \"^\")\n",
    "pos_x: int = int(init_guard_pos[0][0])\n",
    "pos_y: int = int(init_guard_pos[1][0])\n",
    "pos_visited: set = set()"
   ]
  },
  {
   "cell_type": "code",
   "execution_count": 37,
   "metadata": {},
   "outputs": [],
   "source": [
    "def step_guard(guard_pos_y: int, guard_pos_x: int, guard_dir: int, obstacles: np.array):\n",
    "    if obstacles[guard_pos_y, guard_pos_x] == \"#\":\n",
    "        return \"Invalid guard position!\"\n",
    "    \n",
    "    # Check for rotation\n",
    "    for _ in range(4):\n",
    "        if obstacles[guard_pos_y + unit_y[guard_dir], guard_pos_x + unit_x[guard_dir]] == \"#\":\n",
    "            guard_dir = (guard_dir + 1) % 4\n",
    "        else:\n",
    "            break\n",
    "    \n",
    "    # Step the guard\n",
    "    guard_pos_y += unit_y[guard_dir]\n",
    "    guard_pos_x += unit_x[guard_dir]"
   ]
  }
 ],
 "metadata": {
  "kernelspec": {
   "display_name": "usr",
   "language": "python",
   "name": "python3"
  },
  "language_info": {
   "codemirror_mode": {
    "name": "ipython",
    "version": 3
   },
   "file_extension": ".py",
   "mimetype": "text/x-python",
   "name": "python",
   "nbconvert_exporter": "python",
   "pygments_lexer": "ipython3",
   "version": "3.13.0"
  }
 },
 "nbformat": 4,
 "nbformat_minor": 2
}
